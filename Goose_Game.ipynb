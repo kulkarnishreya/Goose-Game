{
  "nbformat": 4,
  "nbformat_minor": 0,
  "metadata": {
    "colab": {
      "name": "Goose Game",
      "provenance": [],
      "collapsed_sections": [],
      "include_colab_link": true
    },
    "kernelspec": {
      "name": "python3",
      "display_name": "Python 3"
    }
  },
  "cells": [
    {
      "cell_type": "markdown",
      "metadata": {
        "id": "view-in-github",
        "colab_type": "text"
      },
      "source": [
        "<a href=\"https://colab.research.google.com/github/kulkarnishreya/Goose-Game/blob/main/Goose_Game.ipynb\" target=\"_parent\"><img src=\"https://colab.research.google.com/assets/colab-badge.svg\" alt=\"Open In Colab\"/></a>"
      ]
    },
    {
      "cell_type": "markdown",
      "metadata": {
        "id": "_eb9hq6S0wTc"
      },
      "source": [
        "\n",
        "Motive:\n",
        "* Create, read and update the contents of a dictionary.\n",
        "* Implement algorithms that use dictionaries to solve problems."
      ]
    },
    {
      "cell_type": "markdown",
      "metadata": {
        "id": "gS0yTnchtKWu"
      },
      "source": [
        "### Part 1: Untitled Goose Game \n",
        "\n",
        "In the real Untitled Goose Game, your character, a goose, is given a list of tasks to perform that generally involve tormenting people in the local village. In our SBU version, you must write the function `goose`, which takes a dictionary of items to steal (`todo`), and a second dictionary that records what the goose has stolen so far (`stolen`). The function updates the `stolen` dictionary using the entries found in `todo`. For example, suppose the `todo` dictionary contains the entry `todo['shovel'] = 2`. This indicates that the goose must steal two shovels. Now suppose that `stolen['shovel']` is `3` when the function is called. The function would update `stolen['shovel']` to `5`. The function returns updated the updated `stolen` dictionary. Do not create a new dictionary.\n",
        "\n",
        "Note: the goose sometimes steals new items. In this case, a new entry needs to be made in the `stolen` dictionary. For example, suppose the `todo` dictionary contains the entry `todo['shovel'] = 2`, but there is no `'shovel'` entry in to `stolen` dictionary. In this case, the function adds the entry `stolen['shovel'] = 2` to the `stolen` dictionary.\n",
        "\n",
        "Example #1:\n",
        "\n",
        "Inputs:\n",
        "```\n",
        "todo = {'apple': 2, 'shovel': 3, 'pail': 4}\n",
        "stolen = {'shovel': 3, 'orange': 2, 'apple': 5}\n",
        "```\n",
        "Return Value:\n",
        "```\n",
        "{'apple': 7, 'orange': 2, 'pail': 4, 'shovel': 6}\n",
        "```\n",
        "\n",
        "Example #2:\n",
        "\n",
        "Inputs:\n",
        "```\n",
        "todo = {'rake': 1, 'apple': 2, 'shovel': 3, 'pail': 4}\n",
        "stolen = {'shovel': 3, 'orange': 2, 'apple': 5}\n",
        "```\n",
        "Return Value:\n",
        "```\n",
        "{'apple': 7, 'orange': 2, 'pail': 4, 'rake': 1, 'shovel': 6}\n",
        "```\n",
        "\n",
        "Example #3:\n",
        "\n",
        "Inputs:\n",
        "```\n",
        "todo = {'rake': 1, 'orange': 4, 'shovel': 3, 'pail': 4, 'cup': 2}\n",
        "stolen = {'shovel': 3, 'apple': 5, 'hat': 2, 'bottle': 1}\n",
        "```\n",
        "Return Value:\n",
        "```\n",
        "{'apple': 5, 'bottle': 1, 'cup': 2, 'hat': 2, 'orange': 4, 'pail': 4, 'rake': 1, 'shovel': 6}\n",
        "```"
      ]
    },
    {
      "cell_type": "code",
      "metadata": {
        "id": "9G_gM7bEtKW5"
      },
      "source": [
        "def goose(todo, stolen):\n",
        "    return {}  # delete this line and start coding here\n",
        "    \n",
        "\n",
        "\n",
        "# Test cases\n",
        "import pprint\n",
        "to_steal = {'apple': 2, 'shovel': 3, 'pail': 4}\n",
        "was_stolen = {'shovel': 3, 'orange': 2, 'apple': 5}\n",
        "pprint.pprint(goose(to_steal, was_stolen), width=100)\n",
        "\n",
        "to_steal = {'rake': 1, 'apple': 2, 'shovel': 3, 'pail': 4}\n",
        "was_stolen = {'shovel': 3, 'orange': 2, 'apple': 5}\n",
        "pprint.pprint(goose(to_steal, was_stolen), width=100)\n",
        "\n",
        "to_steal = {'rake': 1, 'orange': 4, 'shovel': 3, 'pail': 4, 'cup': 2}\n",
        "was_stolen = {'shovel': 3, 'apple': 5, 'hat': 2, 'bottle': 1}\n",
        "pprint.pprint(goose(to_steal, was_stolen), width=100)"
      ],
      "execution_count": null,
      "outputs": []
    },
    {
      "cell_type": "markdown",
      "metadata": {
        "id": "MUjOA-HgncpC"
      },
      "source": [
        "### Part 2: Untitled Goose Game: Cooperative Mode \n",
        "\n",
        "In cooperative mode of Untitled Goose Game, two geese are each given a list of things to steal. The function `goose_coop` takes two lists of items to steal (strings), and returns a dictionary that counts how many of each item was stolen. It also returns the number of *kinds* of items stolen; in other words, it returns the number of unique types of things stolen. The same item could appear multiple times in a list, meaning that more than one of that item was stolen by a single goose.\n",
        "\n",
        "Example #1:\n",
        "\n",
        "Inputs:\n",
        "```\n",
        "goose1 = ['apple', 'orange', 'apple', 'apple', 'pail', 'apple']\n",
        "goose2 = ['shovel', 'apple', 'pail']\n",
        "```\n",
        "Return Values:\n",
        "```\n",
        "{'apple': 5, 'orange': 1, 'pail': 2, 'shovel': 1}\n",
        "4  # why 4? because 4 different kinds of items were stolen\n",
        "```\n",
        "\n",
        "Example #2:\n",
        "\n",
        "Inputs:\n",
        "```\n",
        "goose1 = ['orange', 'rake']\n",
        "goose2 = ['shovel', 'apple', 'pail']\n",
        "```\n",
        "Return Values:\n",
        "```\n",
        "{'apple': 1, 'orange': 1, 'pail': 1, 'rake': 1, 'shovel': 1}\n",
        "5\n",
        "```\n",
        "\n",
        "Example #3:\n",
        "\n",
        "Inputs:\n",
        "```\n",
        "goose1 = ['apple', 'orange', 'apple', 'pear']\n",
        "goose2 = ['shovel', 'shovel', 'shovel', 'shovel', 'shovel']\n",
        "```\n",
        "Return Values:\n",
        "```\n",
        "{'apple': 2, 'orange': 1, 'pear': 1, 'shovel': 5}\n",
        "4\n",
        "```\n"
      ]
    },
    {
      "cell_type": "code",
      "metadata": {
        "id": "cW_zvn7wncpE"
      },
      "source": [
        "def goose_coop(goose1, goose2):\n",
        "    return {}, 0  # delete this line and start coding here\n",
        "\n",
        "\n",
        "# Test cases\n",
        "import pprint\n",
        "goose1 = ['apple', 'orange', 'apple', 'apple', 'pail', 'apple']\n",
        "goose2 = ['shovel', 'apple', 'pail']\n",
        "result_dict, item_count = goose_coop(goose1, goose2)\n",
        "pprint.pprint(result_dict)\n",
        "print(item_count)\n",
        "\n",
        "goose1 = ['orange', 'rake']\n",
        "goose2 = ['shovel', 'apple', 'pail']\n",
        "result_dict, item_count = goose_coop(goose1, goose2)\n",
        "pprint.pprint(result_dict)\n",
        "print(item_count)\n",
        "\n",
        "goose1 = ['apple', 'orange', 'apple', 'pear']\n",
        "goose2 = ['shovel', 'shovel', 'shovel', 'shovel', 'shovel']\n",
        "result_dict, item_count = goose_coop(goose1, goose2)\n",
        "pprint.pprint(result_dict)\n",
        "print(item_count)"
      ],
      "execution_count": null,
      "outputs": []
    },
    {
      "cell_type": "markdown",
      "metadata": {
        "id": "h6gs0GTwnc9R"
      },
      "source": [
        "### Part 3: Untitled Goose Game: Scoring  \n",
        "\n",
        "In this part we will simulate scoring some gameplay of Untitled Goose Game. The goose runs around performing tasks and scoring (or losing!) points according to the table below:\n",
        "\n",
        "Possible Actions | Represented By | Points\n",
        ":-- | :-- | :--\n",
        "Steal a carrot | `'steal'` | 1\n",
        "Lock the farmer out of his garden | `'lock'` | 3\n",
        "Give a performance to a lady and get rewarded with a flower | `'perform'` | 6\n",
        "Be on TV | `'tv'` | 10\n",
        "Get chased out of the bar | `'chased'` | -1\n",
        "Scare the boy | `'scare'` | -3\n",
        "Break a glass | `'break'` | -8\n",
        "\n",
        "Complete the function `goose_points`, which takes a list of `actions` performed by the goose and then returns the total score for that list of actions.\n",
        "\n",
        "However, some special modifiers apply to the point values given above:\n",
        "* The first two TV appearances score 10 points each, but **each** subsequent TV appearance scores only 5 points.\n",
        "\n",
        "* If the combined number of times the goose broke a glass or scared the boy is 3 or greater, subtract 6 points from the total score.\n",
        "\n",
        "Hint #1: use a dictionary to represent the table of points, where each action is a key and its corresponding points provide the value.\n",
        "\n",
        "Hint #2: consider using a dictionary to count how many times each action is performed. Using a dictionary is not required to compute those counts, but it's a good chance to practice using dictionaries.\n",
        "\n",
        "Example #1:\n",
        "\n",
        "Input: `actions = ['scare', 'tv', 'lock', 'steal', 'tv', 'perform', 'chased']`\n",
        "\n",
        "Return Value:  `26`\n",
        "\n",
        "\n",
        "Example #2:\n",
        "\n",
        "Input: `actions = ['tv', 'lock', 'scare', 'tv', 'lock', 'steal', 'tv', 'tv']`\n",
        "\n",
        "Return Value:  `34`\n",
        "\n",
        "\n",
        "Example #3:\n",
        "\n",
        "Input: `actions = ['scare', 'tv', 'lock', 'break', 'break', 'break', 'tv']`\n",
        "\n",
        "Return Value:  `-10`\n",
        "\n",
        "\n",
        "Example #4:\n",
        "\n",
        "Input: `actions = ['steal', 'steal', 'scare', 'break', 'steal', 'tv', 'tv', 'break', 'tv']`\n",
        "\n",
        "Return Value:  `3`\n",
        "\n",
        "\n",
        "Example #5:\n",
        "\n",
        "Input: `actions = ['tv', 'lock', 'break', 'steal', 'scare', 'perform', 'perform', 'tv', 'scare', 'steal', 'tv']`\n",
        "\n",
        "Return Value:  `22`\n",
        "\n"
      ]
    },
    {
      "cell_type": "code",
      "metadata": {
        "id": "bkzVRID-nc9R"
      },
      "source": [
        "def goose_points(actions):\n",
        "    pass  # delete this line and start coding here\n",
        "    \n",
        "\n",
        "# Test cases\n",
        "print(goose_points(['scare', 'tv', 'lock', 'steal', 'tv', 'perform', 'chased']))\n",
        "print(goose_points(['tv', 'lock', 'scare', 'tv', 'lock', 'steal', 'tv', 'tv']))\n",
        "print(goose_points(['scare', 'tv', 'lock', 'break', 'break', 'break', 'tv']))\n",
        "print(goose_points(['steal', 'steal', 'scare', 'break', 'steal', 'tv', 'tv', 'break', 'tv']))\n",
        "print(goose_points(['tv', 'lock', 'break', 'steal', 'scare', 'perform', 'perform', 'tv', 'scare', 'steal', 'tv']))"
      ],
      "execution_count": null,
      "outputs": []
    }
  ]
}